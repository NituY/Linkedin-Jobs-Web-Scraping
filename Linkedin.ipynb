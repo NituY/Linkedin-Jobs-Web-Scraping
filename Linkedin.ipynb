{
 "cells": [
  {
   "cell_type": "code",
   "execution_count": 44,
   "metadata": {},
   "outputs": [],
   "source": [
    "# first import the packages\n",
    "from selenium import webdriver\n",
    "import time\n",
    "import pandas as pd\n",
    "import os"
   ]
  },
  {
   "cell_type": "code",
   "execution_count": 45,
   "metadata": {},
   "outputs": [],
   "source": [
    "#packages\n",
    "from selenium.webdriver.support.select import Select\n",
    "from selenium.webdriver.support.ui import WebDriverWait\n",
    "from selenium.webdriver.common.by import By\n",
    "from selenium.webdriver.support import expected_conditions as EC"
   ]
  },
  {
   "cell_type": "code",
   "execution_count": 46,
   "metadata": {},
   "outputs": [],
   "source": [
    "#write the url\n",
    "url1='https://www.linkedin.com/jobs/search?keywords=Marketing%20Data%20Analyst&location=Berlin%2C%20Berlin%2C%20Germany&geoId=106967730&trk=public_jobs_jobs-search-bar_search-submit&position=1&pageNum=0'\n"
   ]
  },
  {
   "cell_type": "code",
   "execution_count": 47,
   "metadata": {},
   "outputs": [
    {
     "name": "stderr",
     "output_type": "stream",
     "text": [
      "C:\\Users\\user\\AppData\\Local\\Temp\\ipykernel_5720\\3681588685.py:1: DeprecationWarning: executable_path has been deprecated, please pass in a Service object\n",
      "  driver=webdriver.Chrome(\"chromedriver.exe\")\n"
     ]
    }
   ],
   "source": [
    "# Load the web driver and get the url\n",
    "driver=webdriver.Chrome(\"chromedriver.exe\")\n",
    "driver.get(url1)\n"
   ]
  },
  {
   "cell_type": "code",
   "execution_count": null,
   "metadata": {},
   "outputs": [],
   "source": [
    "#Find number of job listings\n",
    "y=driver.find_elements(By.CLASS_NAME,'results-context-header__job-count')[0].text"
   ]
  },
  {
   "cell_type": "code",
   "execution_count": 69,
   "metadata": {},
   "outputs": [],
   "source": [
    "n=pd.to_numeric(y)"
   ]
  },
  {
   "cell_type": "code",
   "execution_count": 50,
   "metadata": {},
   "outputs": [],
   "source": [
    "#Loop to scroll through all jobs \n",
    "i = 2\n",
    "while i <= int((n+200)/25)+1: \n",
    "    driver.execute_script(\"window.scrollTo(0, document.body.scrollHeight);\")\n",
    "    i = i + 1\n",
    "    \n",
    "    try:\n",
    "        send=driver.find_element(By.XPATH, \"//button[@aria-label='Load more results']\")\n",
    "        driver.execute_script(\"arguments[0].click();\", send)   \n",
    "        time.sleep(3)\n",
    "\n",
    "    except:\n",
    "        pass\n",
    "        time.sleep(5)\n",
    "         "
   ]
  },
  {
   "cell_type": "code",
   "execution_count": 51,
   "metadata": {},
   "outputs": [],
   "source": [
    "#Create empty lists\n",
    "companyname= []\n",
    "titlename= []"
   ]
  },
  {
   "cell_type": "code",
   "execution_count": 52,
   "metadata": {},
   "outputs": [
    {
     "name": "stdout",
     "output_type": "stream",
     "text": [
      "no\n"
     ]
    }
   ],
   "source": [
    "#Find company name and append it to the blank list\n",
    "\n",
    "try:\n",
    "    for i in range(n):\n",
    "        company=driver.find_elements(By.CLASS_NAME,'base-search-card__subtitle')[i].text\n",
    "        companyname.append(company)\n",
    "        \n",
    "            \n",
    "    \n",
    "\n",
    "        \n",
    "    \n",
    "\n",
    "    \n",
    "    \n",
    "except IndexError:\n",
    "    print(\"no\")\n",
    "        "
   ]
  },
  {
   "cell_type": "code",
   "execution_count": 53,
   "metadata": {},
   "outputs": [
    {
     "name": "stdout",
     "output_type": "stream",
     "text": [
      "no\n"
     ]
    }
   ],
   "source": [
    "#Find title name and append it to the blank list\n",
    "\n",
    "try:\n",
    "    for i in range(n):\n",
    "        \n",
    "        \n",
    "        title=driver.find_elements(By.CLASS_NAME,'base-search-card__title')[i].text\n",
    "    \n",
    "\n",
    "        titlename.append(title)\n",
    "        \n",
    "            \n",
    "\n",
    "\n",
    "    \n",
    "    \n",
    "except IndexError:\n",
    "    print(\"no\")\n",
    "        \n",
    "    "
   ]
  },
  {
   "cell_type": "code",
   "execution_count": 71,
   "metadata": {},
   "outputs": [],
   "source": [
    "#Create dataframe for company name and title\n",
    "companyfinal=pd.DataFrame(companyname,columns=[\"company\"])\n",
    "titlefinal=pd.DataFrame(titlename,columns=[\"title\"])"
   ]
  },
  {
   "cell_type": "code",
   "execution_count": 55,
   "metadata": {},
   "outputs": [],
   "source": [
    "#Join the two lists\n",
    "x=companyfinal.join(titlefinal)"
   ]
  },
  {
   "cell_type": "code",
   "execution_count": 56,
   "metadata": {},
   "outputs": [
    {
     "data": {
      "text/html": [
       "<div>\n",
       "<style scoped>\n",
       "    .dataframe tbody tr th:only-of-type {\n",
       "        vertical-align: middle;\n",
       "    }\n",
       "\n",
       "    .dataframe tbody tr th {\n",
       "        vertical-align: top;\n",
       "    }\n",
       "\n",
       "    .dataframe thead th {\n",
       "        text-align: right;\n",
       "    }\n",
       "</style>\n",
       "<table border=\"1\" class=\"dataframe\">\n",
       "  <thead>\n",
       "    <tr style=\"text-align: right;\">\n",
       "      <th></th>\n",
       "      <th>company</th>\n",
       "      <th>title</th>\n",
       "    </tr>\n",
       "  </thead>\n",
       "  <tbody>\n",
       "    <tr>\n",
       "      <th>0</th>\n",
       "      <td>Zizoo</td>\n",
       "      <td>Marketing Data Analyst (m/f/x)</td>\n",
       "    </tr>\n",
       "    <tr>\n",
       "      <th>1</th>\n",
       "      <td>ecoligo</td>\n",
       "      <td>Data Analyst - B2C Marketing (f/m/x)</td>\n",
       "    </tr>\n",
       "    <tr>\n",
       "      <th>2</th>\n",
       "      <td>COMO - We are hiring!</td>\n",
       "      <td>Marketing Data Analyst (m/w/x)</td>\n",
       "    </tr>\n",
       "    <tr>\n",
       "      <th>3</th>\n",
       "      <td>A. Lange &amp; Söhne</td>\n",
       "      <td>Marketing Data Analyst (m/w/d)</td>\n",
       "    </tr>\n",
       "    <tr>\n",
       "      <th>4</th>\n",
       "      <td>gocomo.io</td>\n",
       "      <td>Marketing Data Analyst - Performance Marketing...</td>\n",
       "    </tr>\n",
       "    <tr>\n",
       "      <th>...</th>\n",
       "      <td>...</td>\n",
       "      <td>...</td>\n",
       "    </tr>\n",
       "    <tr>\n",
       "      <th>257</th>\n",
       "      <td>Promedis24</td>\n",
       "      <td>Früh-, Elementar- oder Kindheitspädagoge B.A. ...</td>\n",
       "    </tr>\n",
       "    <tr>\n",
       "      <th>258</th>\n",
       "      <td>fitbox GmbH</td>\n",
       "      <td>Duales Studium B.A. Gesundheitsmanagement / Fi...</td>\n",
       "    </tr>\n",
       "    <tr>\n",
       "      <th>259</th>\n",
       "      <td>Promedis24</td>\n",
       "      <td>Früh-, Elementar- oder Kindheitspädagogin B.A....</td>\n",
       "    </tr>\n",
       "    <tr>\n",
       "      <th>260</th>\n",
       "      <td>Agoda</td>\n",
       "      <td>Senior Manager, Marketing Strategy (Bangkok Ba...</td>\n",
       "    </tr>\n",
       "    <tr>\n",
       "      <th>261</th>\n",
       "      <td>Delivery Hero</td>\n",
       "      <td>Intern, Brand Researcher (all genders)</td>\n",
       "    </tr>\n",
       "  </tbody>\n",
       "</table>\n",
       "<p>262 rows × 2 columns</p>\n",
       "</div>"
      ],
      "text/plain": [
       "                   company                                              title\n",
       "0                    Zizoo                     Marketing Data Analyst (m/f/x)\n",
       "1                  ecoligo               Data Analyst - B2C Marketing (f/m/x)\n",
       "2    COMO - We are hiring!                     Marketing Data Analyst (m/w/x)\n",
       "3         A. Lange & Söhne                     Marketing Data Analyst (m/w/d)\n",
       "4                gocomo.io  Marketing Data Analyst - Performance Marketing...\n",
       "..                     ...                                                ...\n",
       "257             Promedis24  Früh-, Elementar- oder Kindheitspädagoge B.A. ...\n",
       "258            fitbox GmbH  Duales Studium B.A. Gesundheitsmanagement / Fi...\n",
       "259             Promedis24  Früh-, Elementar- oder Kindheitspädagogin B.A....\n",
       "260                  Agoda  Senior Manager, Marketing Strategy (Bangkok Ba...\n",
       "261          Delivery Hero             Intern, Brand Researcher (all genders)\n",
       "\n",
       "[262 rows x 2 columns]"
      ]
     },
     "execution_count": 56,
     "metadata": {},
     "output_type": "execute_result"
    }
   ],
   "source": [
    "x\n"
   ]
  },
  {
   "cell_type": "code",
   "execution_count": 66,
   "metadata": {},
   "outputs": [],
   "source": [
    "#Save file in your directory\n",
    "\n",
    "x.to_csv('linkedin.csv')"
   ]
  },
  {
   "cell_type": "code",
   "execution_count": null,
   "metadata": {},
   "outputs": [],
   "source": [
    "driver.close() #Close the driver\n"
   ]
  }
 ],
 "metadata": {
  "kernelspec": {
   "display_name": "Python 3",
   "language": "python",
   "name": "python3"
  },
  "language_info": {
   "codemirror_mode": {
    "name": "ipython",
    "version": 3
   },
   "file_extension": ".py",
   "mimetype": "text/x-python",
   "name": "python",
   "nbconvert_exporter": "python",
   "pygments_lexer": "ipython3",
   "version": "3.9.13"
  },
  "orig_nbformat": 4,
  "vscode": {
   "interpreter": {
    "hash": "497338f01161d141240caa60efca5087225791fadc9b7c964beb65d863e046f0"
   }
  }
 },
 "nbformat": 4,
 "nbformat_minor": 2
}
